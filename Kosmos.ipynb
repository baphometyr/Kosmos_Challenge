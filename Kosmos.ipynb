{
 "cells": [
  {
   "cell_type": "code",
   "execution_count": 18,
   "metadata": {},
   "outputs": [],
   "source": [
    "# Este script requiere las siguientes dependencias:\n",
    "# - scypy\n",
    "# - flask\n",
    "\n",
    "# Descarga del modelo\n",
    "# !python -m spacy download es_core_news_sm\n",
    "\n",
    "\n",
    "import spacy\n",
    "from flask import Flask, request, jsonify\n",
    "\n"
   ]
  },
  {
   "cell_type": "code",
   "execution_count": 22,
   "metadata": {},
   "outputs": [
    {
     "name": "stdout",
     "output_type": "stream",
     "text": [
      " * Serving Flask app \"__main__\" (lazy loading)\n",
      " * Environment: production\n",
      "\u001b[31m   WARNING: This is a development server. Do not use it in a production deployment.\u001b[0m\n",
      "\u001b[2m   Use a production WSGI server instead.\u001b[0m\n",
      " * Debug mode: off\n"
     ]
    },
    {
     "name": "stderr",
     "output_type": "stream",
     "text": [
      " * Running on http://127.0.0.1:5000/ (Press CTRL+C to quit)\n",
      "127.0.0.1 - - [30/Aug/2023 17:08:52] \"POST / HTTP/1.1\" 200 -\n"
     ]
    }
   ],
   "source": [
    "# Cargamos el modelo y creamos la app de flask\n",
    "nlp = spacy.load(\"es_core_news_sm\")\n",
    "app = Flask(__name__)\n",
    "\n",
    "@app.route('/', methods=['POST'])\n",
    "def submit():\n",
    "    # leemos los datos de la peticion\n",
    "    data = request.json  \n",
    "\n",
    "    # Obtenemos la lista de oraciones\n",
    "    oraciones = data['oraciones']\n",
    "\n",
    "    # Lista de diccionarios para el json\n",
    "    list_result = []\n",
    "\n",
    "    # Iteracmos las oraciones\n",
    "    for oracion in oraciones:\n",
    "        # Procesar la oración con SpaCy\n",
    "        doc = nlp(oracion)\n",
    "        \n",
    "\n",
    "        # Agregamos el resultado de la oracion a la lista\n",
    "        list_result.append({\n",
    "            \"oración\": \n",
    "                oracion,\n",
    "            \"entidades\": \n",
    "                {\n",
    "                    e.text: e.label_ for e in doc.ents\n",
    "                } \n",
    "        })\n",
    "\n",
    "    # Retornamos la lista de resultados\n",
    "    return jsonify({\"resultado\": list_result})\n",
    "\n",
    "# Ejecutamos nuestra app\n",
    "app.run()"
   ]
  }
 ],
 "metadata": {
  "kernelspec": {
   "display_name": "Python 3",
   "language": "python",
   "name": "python3"
  },
  "language_info": {
   "codemirror_mode": {
    "name": "ipython",
    "version": 3
   },
   "file_extension": ".py",
   "mimetype": "text/x-python",
   "name": "python",
   "nbconvert_exporter": "python",
   "pygments_lexer": "ipython3",
   "version": "3.9.6"
  },
  "orig_nbformat": 4
 },
 "nbformat": 4,
 "nbformat_minor": 2
}
